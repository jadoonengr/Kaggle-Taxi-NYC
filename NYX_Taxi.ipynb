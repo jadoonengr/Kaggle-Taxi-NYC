{
 "cells": [
  {
   "cell_type": "markdown",
   "metadata": {},
   "source": [
    "# NYC Taxi Trip Duration"
   ]
  },
  {
   "cell_type": "markdown",
   "metadata": {},
   "source": [
    "## Loading Training Data"
   ]
  },
  {
   "cell_type": "markdown",
   "metadata": {},
   "source": [
    "### import libraries"
   ]
  },
  {
   "cell_type": "code",
   "execution_count": 14,
   "metadata": {},
   "outputs": [],
   "source": [
    "%matplotlib inline\n",
    "import numpy as np\n",
    "from numpy import random, float\n",
    "\n",
    "import pandas as pd\n",
    "from pandas import DataFrame\n",
    "#from pandas.core import datetools\n",
    "from pandas.lib import Timestamp\n",
    "\n",
    "from sklearn.preprocessing import StandardScaler\n",
    "from sklearn.cluster import KMeans\n",
    "from sklearn.preprocessing import scale\n",
    "from sklearn import tree\n",
    "from sklearn.metrics import accuracy_score, mean_squared_log_error\n",
    "from sklearn.ensemble import ExtraTreesRegressor\n",
    "\n",
    "import time\n",
    "import seaborn as sns #To conduct visual analysis\n",
    "import statsmodels.api as sm\n",
    "import math\n",
    "\n",
    "import matplotlib.pyplot as plt\n",
    "from ggplot import *\n",
    "from geopy.distance import vincenty #for calculating Distance\n"
   ]
  },
  {
   "cell_type": "markdown",
   "metadata": {},
   "source": [
    "### Read data from files."
   ]
  },
  {
   "cell_type": "code",
   "execution_count": 15,
   "metadata": {},
   "outputs": [
    {
     "data": {
      "text/html": [
       "<div>\n",
       "<style>\n",
       "    .dataframe thead tr:only-child th {\n",
       "        text-align: right;\n",
       "    }\n",
       "\n",
       "    .dataframe thead th {\n",
       "        text-align: left;\n",
       "    }\n",
       "\n",
       "    .dataframe tbody tr th {\n",
       "        vertical-align: top;\n",
       "    }\n",
       "</style>\n",
       "<table border=\"1\" class=\"dataframe\">\n",
       "  <thead>\n",
       "    <tr style=\"text-align: right;\">\n",
       "      <th></th>\n",
       "      <th>id</th>\n",
       "      <th>vendor_id</th>\n",
       "      <th>pickup_datetime</th>\n",
       "      <th>dropoff_datetime</th>\n",
       "      <th>passenger_count</th>\n",
       "      <th>pickup_longitude</th>\n",
       "      <th>pickup_latitude</th>\n",
       "      <th>dropoff_longitude</th>\n",
       "      <th>dropoff_latitude</th>\n",
       "      <th>store_and_fwd_flag</th>\n",
       "      <th>trip_duration</th>\n",
       "    </tr>\n",
       "  </thead>\n",
       "  <tbody>\n",
       "    <tr>\n",
       "      <th>0</th>\n",
       "      <td>id2875421</td>\n",
       "      <td>2</td>\n",
       "      <td>2016-03-14 17:24:55</td>\n",
       "      <td>2016-03-14 17:32:30</td>\n",
       "      <td>1</td>\n",
       "      <td>-73.982154846191392</td>\n",
       "      <td>40.767936706542969</td>\n",
       "      <td>-73.964630126953125</td>\n",
       "      <td>40.765602111816406</td>\n",
       "      <td>N</td>\n",
       "      <td>455</td>\n",
       "    </tr>\n",
       "    <tr>\n",
       "      <th>1</th>\n",
       "      <td>id2377394</td>\n",
       "      <td>1</td>\n",
       "      <td>2016-06-12 00:43:35</td>\n",
       "      <td>2016-06-12 00:54:38</td>\n",
       "      <td>1</td>\n",
       "      <td>-73.980415344238267</td>\n",
       "      <td>40.738563537597656</td>\n",
       "      <td>-73.999481201171875</td>\n",
       "      <td>40.731151580810547</td>\n",
       "      <td>N</td>\n",
       "      <td>663</td>\n",
       "    </tr>\n",
       "    <tr>\n",
       "      <th>2</th>\n",
       "      <td>id3858529</td>\n",
       "      <td>2</td>\n",
       "      <td>2016-01-19 11:35:24</td>\n",
       "      <td>2016-01-19 12:10:48</td>\n",
       "      <td>1</td>\n",
       "      <td>-73.979026794433580</td>\n",
       "      <td>40.763938903808594</td>\n",
       "      <td>-74.005332946777344</td>\n",
       "      <td>40.710086822509773</td>\n",
       "      <td>N</td>\n",
       "      <td>2124</td>\n",
       "    </tr>\n",
       "    <tr>\n",
       "      <th>3</th>\n",
       "      <td>id3504673</td>\n",
       "      <td>2</td>\n",
       "      <td>2016-04-06 19:32:31</td>\n",
       "      <td>2016-04-06 19:39:40</td>\n",
       "      <td>1</td>\n",
       "      <td>-74.010040283203125</td>\n",
       "      <td>40.719970703125000</td>\n",
       "      <td>-74.012268066406250</td>\n",
       "      <td>40.706718444824219</td>\n",
       "      <td>N</td>\n",
       "      <td>429</td>\n",
       "    </tr>\n",
       "    <tr>\n",
       "      <th>4</th>\n",
       "      <td>id2181028</td>\n",
       "      <td>2</td>\n",
       "      <td>2016-03-26 13:30:55</td>\n",
       "      <td>2016-03-26 13:38:10</td>\n",
       "      <td>1</td>\n",
       "      <td>-73.973052978515625</td>\n",
       "      <td>40.793209075927727</td>\n",
       "      <td>-73.972923278808594</td>\n",
       "      <td>40.782520294189453</td>\n",
       "      <td>N</td>\n",
       "      <td>435</td>\n",
       "    </tr>\n",
       "  </tbody>\n",
       "</table>\n",
       "</div>"
      ],
      "text/plain": [
       "          id  vendor_id      pickup_datetime     dropoff_datetime  \\\n",
       "0  id2875421          2  2016-03-14 17:24:55  2016-03-14 17:32:30   \n",
       "1  id2377394          1  2016-06-12 00:43:35  2016-06-12 00:54:38   \n",
       "2  id3858529          2  2016-01-19 11:35:24  2016-01-19 12:10:48   \n",
       "3  id3504673          2  2016-04-06 19:32:31  2016-04-06 19:39:40   \n",
       "4  id2181028          2  2016-03-26 13:30:55  2016-03-26 13:38:10   \n",
       "\n",
       "   passenger_count    pickup_longitude    pickup_latitude   dropoff_longitude  \\\n",
       "0                1 -73.982154846191392 40.767936706542969 -73.964630126953125   \n",
       "1                1 -73.980415344238267 40.738563537597656 -73.999481201171875   \n",
       "2                1 -73.979026794433580 40.763938903808594 -74.005332946777344   \n",
       "3                1 -74.010040283203125 40.719970703125000 -74.012268066406250   \n",
       "4                1 -73.973052978515625 40.793209075927727 -73.972923278808594   \n",
       "\n",
       "    dropoff_latitude store_and_fwd_flag  trip_duration  \n",
       "0 40.765602111816406                  N            455  \n",
       "1 40.731151580810547                  N            663  \n",
       "2 40.710086822509773                  N           2124  \n",
       "3 40.706718444824219                  N            429  \n",
       "4 40.782520294189453                  N            435  "
      ]
     },
     "execution_count": 15,
     "metadata": {},
     "output_type": "execute_result"
    }
   ],
   "source": [
    "pd.options.display.float_format = '{:,.15f}'.format\n",
    "\n",
    "#input_file = \"e:/sundog-consult/udemy/datascience/PastHires.csv\"\n",
    "train_file = \"train.csv\"\n",
    "weather_file = \"Weather_NYC_Data.csv\"\n",
    "result_file = \"result.csv\"\n",
    "\n",
    "\n",
    "df = pd.read_csv(train_file, header = 0)\n",
    "df_w = pd.read_csv(weather_file, header = 0)\n",
    "\n",
    "df.head()"
   ]
  },
  {
   "cell_type": "markdown",
   "metadata": {},
   "source": [
    "### Converting Datetime values from Object to Datetime"
   ]
  },
  {
   "cell_type": "code",
   "execution_count": 16,
   "metadata": {},
   "outputs": [
    {
     "name": "stdout",
     "output_type": "stream",
     "text": [
      "The deed is done\n"
     ]
    },
    {
     "data": {
      "text/html": [
       "<div>\n",
       "<style>\n",
       "    .dataframe thead tr:only-child th {\n",
       "        text-align: right;\n",
       "    }\n",
       "\n",
       "    .dataframe thead th {\n",
       "        text-align: left;\n",
       "    }\n",
       "\n",
       "    .dataframe tbody tr th {\n",
       "        vertical-align: top;\n",
       "    }\n",
       "</style>\n",
       "<table border=\"1\" class=\"dataframe\">\n",
       "  <thead>\n",
       "    <tr style=\"text-align: right;\">\n",
       "      <th></th>\n",
       "      <th>id</th>\n",
       "      <th>vendor_id</th>\n",
       "      <th>pickup_datetime</th>\n",
       "      <th>dropoff_datetime</th>\n",
       "      <th>passenger_count</th>\n",
       "      <th>pickup_longitude</th>\n",
       "      <th>pickup_latitude</th>\n",
       "      <th>dropoff_longitude</th>\n",
       "      <th>dropoff_latitude</th>\n",
       "      <th>store_and_fwd_flag</th>\n",
       "      <th>trip_duration</th>\n",
       "      <th>within_min_range</th>\n",
       "      <th>total_distance</th>\n",
       "    </tr>\n",
       "  </thead>\n",
       "  <tbody>\n",
       "    <tr>\n",
       "      <th>0</th>\n",
       "      <td>id2875421</td>\n",
       "      <td>2</td>\n",
       "      <td>2016-03-14 17:24:55</td>\n",
       "      <td>2016-03-14 17:32:30</td>\n",
       "      <td>1</td>\n",
       "      <td>-73.982154846191392</td>\n",
       "      <td>40.767936706542969</td>\n",
       "      <td>-73.964630126953125</td>\n",
       "      <td>40.765602111816406</td>\n",
       "      <td>0</td>\n",
       "      <td>455</td>\n",
       "      <td>1</td>\n",
       "      <td>6421</td>\n",
       "    </tr>\n",
       "    <tr>\n",
       "      <th>1</th>\n",
       "      <td>id2377394</td>\n",
       "      <td>1</td>\n",
       "      <td>2016-06-12 00:43:35</td>\n",
       "      <td>2016-06-12 00:54:38</td>\n",
       "      <td>1</td>\n",
       "      <td>-73.980415344238267</td>\n",
       "      <td>40.738563537597656</td>\n",
       "      <td>-73.999481201171875</td>\n",
       "      <td>40.731151580810547</td>\n",
       "      <td>0</td>\n",
       "      <td>663</td>\n",
       "      <td>2</td>\n",
       "      <td>7021</td>\n",
       "    </tr>\n",
       "    <tr>\n",
       "      <th>2</th>\n",
       "      <td>id3858529</td>\n",
       "      <td>2</td>\n",
       "      <td>2016-01-19 11:35:24</td>\n",
       "      <td>2016-01-19 12:10:48</td>\n",
       "      <td>1</td>\n",
       "      <td>-73.979026794433580</td>\n",
       "      <td>40.763938903808594</td>\n",
       "      <td>-74.005332946777344</td>\n",
       "      <td>40.710086822509773</td>\n",
       "      <td>0</td>\n",
       "      <td>2124</td>\n",
       "      <td>7</td>\n",
       "      <td>11062</td>\n",
       "    </tr>\n",
       "    <tr>\n",
       "      <th>3</th>\n",
       "      <td>id3504673</td>\n",
       "      <td>2</td>\n",
       "      <td>2016-04-06 19:32:31</td>\n",
       "      <td>2016-04-06 19:39:40</td>\n",
       "      <td>1</td>\n",
       "      <td>-74.010040283203125</td>\n",
       "      <td>40.719970703125000</td>\n",
       "      <td>-74.012268066406250</td>\n",
       "      <td>40.706718444824219</td>\n",
       "      <td>0</td>\n",
       "      <td>429</td>\n",
       "      <td>1</td>\n",
       "      <td>1566</td>\n",
       "    </tr>\n",
       "    <tr>\n",
       "      <th>4</th>\n",
       "      <td>id2181028</td>\n",
       "      <td>2</td>\n",
       "      <td>2016-03-26 13:30:55</td>\n",
       "      <td>2016-03-26 13:38:10</td>\n",
       "      <td>1</td>\n",
       "      <td>-73.973052978515625</td>\n",
       "      <td>40.793209075927727</td>\n",
       "      <td>-73.972923278808594</td>\n",
       "      <td>40.782520294189453</td>\n",
       "      <td>0</td>\n",
       "      <td>435</td>\n",
       "      <td>1</td>\n",
       "      <td>1082</td>\n",
       "    </tr>\n",
       "  </tbody>\n",
       "</table>\n",
       "</div>"
      ],
      "text/plain": [
       "          id  vendor_id     pickup_datetime    dropoff_datetime  \\\n",
       "0  id2875421          2 2016-03-14 17:24:55 2016-03-14 17:32:30   \n",
       "1  id2377394          1 2016-06-12 00:43:35 2016-06-12 00:54:38   \n",
       "2  id3858529          2 2016-01-19 11:35:24 2016-01-19 12:10:48   \n",
       "3  id3504673          2 2016-04-06 19:32:31 2016-04-06 19:39:40   \n",
       "4  id2181028          2 2016-03-26 13:30:55 2016-03-26 13:38:10   \n",
       "\n",
       "   passenger_count    pickup_longitude    pickup_latitude   dropoff_longitude  \\\n",
       "0                1 -73.982154846191392 40.767936706542969 -73.964630126953125   \n",
       "1                1 -73.980415344238267 40.738563537597656 -73.999481201171875   \n",
       "2                1 -73.979026794433580 40.763938903808594 -74.005332946777344   \n",
       "3                1 -74.010040283203125 40.719970703125000 -74.012268066406250   \n",
       "4                1 -73.973052978515625 40.793209075927727 -73.972923278808594   \n",
       "\n",
       "    dropoff_latitude  store_and_fwd_flag  trip_duration  within_min_range  \\\n",
       "0 40.765602111816406                   0            455                 1   \n",
       "1 40.731151580810547                   0            663                 2   \n",
       "2 40.710086822509773                   0           2124                 7   \n",
       "3 40.706718444824219                   0            429                 1   \n",
       "4 40.782520294189453                   0            435                 1   \n",
       "\n",
       "   total_distance  \n",
       "0            6421  \n",
       "1            7021  \n",
       "2           11062  \n",
       "3            1566  \n",
       "4            1082  "
      ]
     },
     "execution_count": 16,
     "metadata": {},
     "output_type": "execute_result"
    }
   ],
   "source": [
    "def min_bucket_func(row):    \n",
    "    if row >= 0 and row < 300*24 :\n",
    "        return math.floor((row/60)/5)\n",
    "    else:\n",
    "        return 200\n",
    "\n",
    "df['within_min_range']=df['trip_duration'].apply(lambda x: min_bucket_func(x))\n",
    "\n",
    "df['pickup_datetime'] = pd.to_datetime(df['pickup_datetime'])\n",
    "df['dropoff_datetime'] = pd.to_datetime(df['dropoff_datetime'])\n",
    "df_w['Date'] = pd.to_datetime(df_w['Date'])\n",
    "\n",
    "d={'Y':1 , 'N':0}\n",
    "df['store_and_fwd_flag'] = df['store_and_fwd_flag'].map(d)\n",
    "df['total_distance'] = df.apply(lambda x: vincenty((x['pickup_longitude'],x['pickup_latitude']), (x['dropoff_longitude'],   x['dropoff_latitude'])).feet, axis=1).astype(int)\n",
    "\n",
    "\n",
    "print(\"The deed is done\")\n",
    "df.head()"
   ]
  },
  {
   "cell_type": "code",
   "execution_count": 17,
   "metadata": {},
   "outputs": [
    {
     "data": {
      "text/html": [
       "<div>\n",
       "<style>\n",
       "    .dataframe thead tr:only-child th {\n",
       "        text-align: right;\n",
       "    }\n",
       "\n",
       "    .dataframe thead th {\n",
       "        text-align: left;\n",
       "    }\n",
       "\n",
       "    .dataframe tbody tr th {\n",
       "        vertical-align: top;\n",
       "    }\n",
       "</style>\n",
       "<table border=\"1\" class=\"dataframe\">\n",
       "  <thead>\n",
       "    <tr style=\"text-align: right;\">\n",
       "      <th></th>\n",
       "      <th>vendor_id</th>\n",
       "      <th>passenger_count</th>\n",
       "      <th>pickup_longitude</th>\n",
       "      <th>pickup_latitude</th>\n",
       "      <th>dropoff_longitude</th>\n",
       "      <th>dropoff_latitude</th>\n",
       "      <th>store_and_fwd_flag</th>\n",
       "      <th>trip_duration</th>\n",
       "      <th>within_min_range</th>\n",
       "      <th>total_distance</th>\n",
       "    </tr>\n",
       "  </thead>\n",
       "  <tbody>\n",
       "    <tr>\n",
       "      <th>count</th>\n",
       "      <td>1,458,644.000000000000000</td>\n",
       "      <td>1,458,644.000000000000000</td>\n",
       "      <td>1,458,644.000000000000000</td>\n",
       "      <td>1,458,644.000000000000000</td>\n",
       "      <td>1,458,644.000000000000000</td>\n",
       "      <td>1,458,644.000000000000000</td>\n",
       "      <td>1,458,644.000000000000000</td>\n",
       "      <td>1,458,644.000000000000000</td>\n",
       "      <td>1,458,644.000000000000000</td>\n",
       "      <td>1,458,644.000000000000000</td>\n",
       "    </tr>\n",
       "    <tr>\n",
       "      <th>mean</th>\n",
       "      <td>1.534950268879864</td>\n",
       "      <td>1.664529521939555</td>\n",
       "      <td>-73.973486304892816</td>\n",
       "      <td>40.750920908391734</td>\n",
       "      <td>-73.973415946945806</td>\n",
       "      <td>40.751799514900199</td>\n",
       "      <td>0.005515396491536</td>\n",
       "      <td>959.492272960365881</td>\n",
       "      <td>2.591597401422143</td>\n",
       "      <td>9,471.005508540809387</td>\n",
       "    </tr>\n",
       "    <tr>\n",
       "      <th>std</th>\n",
       "      <td>0.498777153905215</td>\n",
       "      <td>1.314242167812239</td>\n",
       "      <td>0.070901858422697</td>\n",
       "      <td>0.032881186257634</td>\n",
       "      <td>0.070643268097204</td>\n",
       "      <td>0.035890555605635</td>\n",
       "      <td>0.074060655231112</td>\n",
       "      <td>5,237.431724497701907</td>\n",
       "      <td>8.070231295180847</td>\n",
       "      <td>14,605.778452631819164</td>\n",
       "    </tr>\n",
       "    <tr>\n",
       "      <th>min</th>\n",
       "      <td>1.000000000000000</td>\n",
       "      <td>0.000000000000000</td>\n",
       "      <td>-121.933341979980483</td>\n",
       "      <td>34.359695434570305</td>\n",
       "      <td>-121.933303833007798</td>\n",
       "      <td>32.181140899658203</td>\n",
       "      <td>0.000000000000000</td>\n",
       "      <td>1.000000000000000</td>\n",
       "      <td>0.000000000000000</td>\n",
       "      <td>0.000000000000000</td>\n",
       "    </tr>\n",
       "    <tr>\n",
       "      <th>25%</th>\n",
       "      <td>1.000000000000000</td>\n",
       "      <td>1.000000000000000</td>\n",
       "      <td>-73.991867065429702</td>\n",
       "      <td>40.737346649169922</td>\n",
       "      <td>-73.991325378417969</td>\n",
       "      <td>40.735884666442871</td>\n",
       "      <td>0.000000000000000</td>\n",
       "      <td>397.000000000000000</td>\n",
       "      <td>1.000000000000000</td>\n",
       "      <td>2,791.000000000000000</td>\n",
       "    </tr>\n",
       "    <tr>\n",
       "      <th>50%</th>\n",
       "      <td>2.000000000000000</td>\n",
       "      <td>1.000000000000000</td>\n",
       "      <td>-73.981742858886719</td>\n",
       "      <td>40.754100799560547</td>\n",
       "      <td>-73.979751586914062</td>\n",
       "      <td>40.754524230957031</td>\n",
       "      <td>0.000000000000000</td>\n",
       "      <td>662.000000000000000</td>\n",
       "      <td>2.000000000000000</td>\n",
       "      <td>5,042.000000000000000</td>\n",
       "    </tr>\n",
       "    <tr>\n",
       "      <th>75%</th>\n",
       "      <td>2.000000000000000</td>\n",
       "      <td>2.000000000000000</td>\n",
       "      <td>-73.967330932617188</td>\n",
       "      <td>40.768360137939453</td>\n",
       "      <td>-73.963012695312500</td>\n",
       "      <td>40.769809722900391</td>\n",
       "      <td>0.000000000000000</td>\n",
       "      <td>1,075.000000000000000</td>\n",
       "      <td>3.000000000000000</td>\n",
       "      <td>9,374.000000000000000</td>\n",
       "    </tr>\n",
       "    <tr>\n",
       "      <th>max</th>\n",
       "      <td>2.000000000000000</td>\n",
       "      <td>9.000000000000000</td>\n",
       "      <td>-61.335529327392578</td>\n",
       "      <td>51.881084442138672</td>\n",
       "      <td>-61.335529327392578</td>\n",
       "      <td>43.921028137207031</td>\n",
       "      <td>1.000000000000000</td>\n",
       "      <td>3,526,282.000000000000000</td>\n",
       "      <td>200.000000000000000</td>\n",
       "      <td>2,805,954.000000000000000</td>\n",
       "    </tr>\n",
       "  </tbody>\n",
       "</table>\n",
       "</div>"
      ],
      "text/plain": [
       "                      vendor_id           passenger_count  \\\n",
       "count 1,458,644.000000000000000 1,458,644.000000000000000   \n",
       "mean          1.534950268879864         1.664529521939555   \n",
       "std           0.498777153905215         1.314242167812239   \n",
       "min           1.000000000000000         0.000000000000000   \n",
       "25%           1.000000000000000         1.000000000000000   \n",
       "50%           2.000000000000000         1.000000000000000   \n",
       "75%           2.000000000000000         2.000000000000000   \n",
       "max           2.000000000000000         9.000000000000000   \n",
       "\n",
       "               pickup_longitude           pickup_latitude  \\\n",
       "count 1,458,644.000000000000000 1,458,644.000000000000000   \n",
       "mean        -73.973486304892816        40.750920908391734   \n",
       "std           0.070901858422697         0.032881186257634   \n",
       "min        -121.933341979980483        34.359695434570305   \n",
       "25%         -73.991867065429702        40.737346649169922   \n",
       "50%         -73.981742858886719        40.754100799560547   \n",
       "75%         -73.967330932617188        40.768360137939453   \n",
       "max         -61.335529327392578        51.881084442138672   \n",
       "\n",
       "              dropoff_longitude          dropoff_latitude  \\\n",
       "count 1,458,644.000000000000000 1,458,644.000000000000000   \n",
       "mean        -73.973415946945806        40.751799514900199   \n",
       "std           0.070643268097204         0.035890555605635   \n",
       "min        -121.933303833007798        32.181140899658203   \n",
       "25%         -73.991325378417969        40.735884666442871   \n",
       "50%         -73.979751586914062        40.754524230957031   \n",
       "75%         -73.963012695312500        40.769809722900391   \n",
       "max         -61.335529327392578        43.921028137207031   \n",
       "\n",
       "             store_and_fwd_flag             trip_duration  \\\n",
       "count 1,458,644.000000000000000 1,458,644.000000000000000   \n",
       "mean          0.005515396491536       959.492272960365881   \n",
       "std           0.074060655231112     5,237.431724497701907   \n",
       "min           0.000000000000000         1.000000000000000   \n",
       "25%           0.000000000000000       397.000000000000000   \n",
       "50%           0.000000000000000       662.000000000000000   \n",
       "75%           0.000000000000000     1,075.000000000000000   \n",
       "max           1.000000000000000 3,526,282.000000000000000   \n",
       "\n",
       "               within_min_range            total_distance  \n",
       "count 1,458,644.000000000000000 1,458,644.000000000000000  \n",
       "mean          2.591597401422143     9,471.005508540809387  \n",
       "std           8.070231295180847    14,605.778452631819164  \n",
       "min           0.000000000000000         0.000000000000000  \n",
       "25%           1.000000000000000     2,791.000000000000000  \n",
       "50%           2.000000000000000     5,042.000000000000000  \n",
       "75%           3.000000000000000     9,374.000000000000000  \n",
       "max         200.000000000000000 2,805,954.000000000000000  "
      ]
     },
     "execution_count": 17,
     "metadata": {},
     "output_type": "execute_result"
    }
   ],
   "source": [
    "df.describe()"
   ]
  },
  {
   "cell_type": "markdown",
   "metadata": {},
   "source": [
    "### Make a separate column for Month and Date"
   ]
  },
  {
   "cell_type": "code",
   "execution_count": 18,
   "metadata": {},
   "outputs": [
    {
     "data": {
      "text/html": [
       "<div>\n",
       "<style>\n",
       "    .dataframe thead tr:only-child th {\n",
       "        text-align: right;\n",
       "    }\n",
       "\n",
       "    .dataframe thead th {\n",
       "        text-align: left;\n",
       "    }\n",
       "\n",
       "    .dataframe tbody tr th {\n",
       "        vertical-align: top;\n",
       "    }\n",
       "</style>\n",
       "<table border=\"1\" class=\"dataframe\">\n",
       "  <thead>\n",
       "    <tr style=\"text-align: right;\">\n",
       "      <th></th>\n",
       "      <th>Date</th>\n",
       "      <th>temphigh</th>\n",
       "      <th>tempavg</th>\n",
       "      <th>templow</th>\n",
       "      <th>dewhigh</th>\n",
       "      <th>dewavg</th>\n",
       "      <th>dewlow</th>\n",
       "      <th>humhigh</th>\n",
       "      <th>humavg</th>\n",
       "      <th>humlow</th>\n",
       "      <th>...</th>\n",
       "      <th>vishigh</th>\n",
       "      <th>visavg</th>\n",
       "      <th>vislow</th>\n",
       "      <th>windhigh</th>\n",
       "      <th>windavg</th>\n",
       "      <th>preceiphigh</th>\n",
       "      <th>precipsum</th>\n",
       "      <th>Events</th>\n",
       "      <th>Precip</th>\n",
       "      <th>Snow</th>\n",
       "    </tr>\n",
       "  </thead>\n",
       "  <tbody>\n",
       "    <tr>\n",
       "      <th>0</th>\n",
       "      <td>2016-01-01</td>\n",
       "      <td>44</td>\n",
       "      <td>40</td>\n",
       "      <td>37</td>\n",
       "      <td>32</td>\n",
       "      <td>28</td>\n",
       "      <td>21</td>\n",
       "      <td>70</td>\n",
       "      <td>61</td>\n",
       "      <td>52</td>\n",
       "      <td>...</td>\n",
       "      <td>10</td>\n",
       "      <td>10</td>\n",
       "      <td>8</td>\n",
       "      <td>23</td>\n",
       "      <td>8</td>\n",
       "      <td>39</td>\n",
       "      <td>0.000000000000000</td>\n",
       "      <td></td>\n",
       "      <td>0.000000000000000</td>\n",
       "      <td>0.000000000000000</td>\n",
       "    </tr>\n",
       "    <tr>\n",
       "      <th>1</th>\n",
       "      <td>2016-01-02</td>\n",
       "      <td>42</td>\n",
       "      <td>38</td>\n",
       "      <td>35</td>\n",
       "      <td>27</td>\n",
       "      <td>24</td>\n",
       "      <td>21</td>\n",
       "      <td>70</td>\n",
       "      <td>57</td>\n",
       "      <td>49</td>\n",
       "      <td>...</td>\n",
       "      <td>10</td>\n",
       "      <td>10</td>\n",
       "      <td>9</td>\n",
       "      <td>16</td>\n",
       "      <td>10</td>\n",
       "      <td>34</td>\n",
       "      <td>0.000000000000000</td>\n",
       "      <td></td>\n",
       "      <td>0.000000000000000</td>\n",
       "      <td>0.000000000000000</td>\n",
       "    </tr>\n",
       "    <tr>\n",
       "      <th>2</th>\n",
       "      <td>2016-01-03</td>\n",
       "      <td>48</td>\n",
       "      <td>42</td>\n",
       "      <td>35</td>\n",
       "      <td>28</td>\n",
       "      <td>27</td>\n",
       "      <td>25</td>\n",
       "      <td>70</td>\n",
       "      <td>60</td>\n",
       "      <td>40</td>\n",
       "      <td>...</td>\n",
       "      <td>10</td>\n",
       "      <td>10</td>\n",
       "      <td>8</td>\n",
       "      <td>17</td>\n",
       "      <td>10</td>\n",
       "      <td>33</td>\n",
       "      <td>0.000000000000000</td>\n",
       "      <td></td>\n",
       "      <td>0.000000000000000</td>\n",
       "      <td>0.000000000000000</td>\n",
       "    </tr>\n",
       "    <tr>\n",
       "      <th>3</th>\n",
       "      <td>2016-01-04</td>\n",
       "      <td>37</td>\n",
       "      <td>28</td>\n",
       "      <td>19</td>\n",
       "      <td>28</td>\n",
       "      <td>17</td>\n",
       "      <td>7</td>\n",
       "      <td>74</td>\n",
       "      <td>57</td>\n",
       "      <td>32</td>\n",
       "      <td>...</td>\n",
       "      <td>10</td>\n",
       "      <td>10</td>\n",
       "      <td>8</td>\n",
       "      <td>13</td>\n",
       "      <td>5</td>\n",
       "      <td>28</td>\n",
       "      <td>0.000000000000000</td>\n",
       "      <td></td>\n",
       "      <td>0.000000000000000</td>\n",
       "      <td>0.000000000000000</td>\n",
       "    </tr>\n",
       "    <tr>\n",
       "      <th>4</th>\n",
       "      <td>2016-01-05</td>\n",
       "      <td>35</td>\n",
       "      <td>25</td>\n",
       "      <td>15</td>\n",
       "      <td>18</td>\n",
       "      <td>11</td>\n",
       "      <td>5</td>\n",
       "      <td>93</td>\n",
       "      <td>55</td>\n",
       "      <td>33</td>\n",
       "      <td>...</td>\n",
       "      <td>10</td>\n",
       "      <td>10</td>\n",
       "      <td>9</td>\n",
       "      <td>14</td>\n",
       "      <td>6</td>\n",
       "      <td>40</td>\n",
       "      <td>0.000000000000000</td>\n",
       "      <td></td>\n",
       "      <td>0.000000000000000</td>\n",
       "      <td>0.000000000000000</td>\n",
       "    </tr>\n",
       "  </tbody>\n",
       "</table>\n",
       "<p>5 rows × 23 columns</p>\n",
       "</div>"
      ],
      "text/plain": [
       "        Date  temphigh  tempavg  templow  dewhigh  dewavg  dewlow  humhigh  \\\n",
       "0 2016-01-01        44       40       37       32      28      21       70   \n",
       "1 2016-01-02        42       38       35       27      24      21       70   \n",
       "2 2016-01-03        48       42       35       28      27      25       70   \n",
       "3 2016-01-04        37       28       19       28      17       7       74   \n",
       "4 2016-01-05        35       25       15       18      11       5       93   \n",
       "\n",
       "   humavg  humlow        ...         vishigh  visavg  vislow  windhigh  \\\n",
       "0      61      52        ...              10      10       8        23   \n",
       "1      57      49        ...              10      10       9        16   \n",
       "2      60      40        ...              10      10       8        17   \n",
       "3      57      32        ...              10      10       8        13   \n",
       "4      55      33        ...              10      10       9        14   \n",
       "\n",
       "   windavg  preceiphigh         precipsum  Events            Precip  \\\n",
       "0        8           39 0.000000000000000         0.000000000000000   \n",
       "1       10           34 0.000000000000000         0.000000000000000   \n",
       "2       10           33 0.000000000000000         0.000000000000000   \n",
       "3        5           28 0.000000000000000         0.000000000000000   \n",
       "4        6           40 0.000000000000000         0.000000000000000   \n",
       "\n",
       "               Snow  \n",
       "0 0.000000000000000  \n",
       "1 0.000000000000000  \n",
       "2 0.000000000000000  \n",
       "3 0.000000000000000  \n",
       "4 0.000000000000000  \n",
       "\n",
       "[5 rows x 23 columns]"
      ]
     },
     "execution_count": 18,
     "metadata": {},
     "output_type": "execute_result"
    }
   ],
   "source": [
    "df['Date']=df['pickup_datetime'].dt.year.map(str)+'-'+df['pickup_datetime'].dt.month.map(str)+'-'+df['pickup_datetime'].dt.day.map(str)\n",
    "df['Date']=pd.to_datetime(df['Date'])\n",
    "df_w['Date']=pd.to_datetime(df_w['Date'])\n",
    "\n",
    "df_w.head()\n",
    "#print(\"The deed is done\")"
   ]
  },
  {
   "cell_type": "markdown",
   "metadata": {},
   "source": [
    "### Let's join weather data:"
   ]
  },
  {
   "cell_type": "code",
   "execution_count": 19,
   "metadata": {},
   "outputs": [
    {
     "name": "stdout",
     "output_type": "stream",
     "text": [
      "The deed is done\n"
     ]
    },
    {
     "data": {
      "text/html": [
       "<div>\n",
       "<style>\n",
       "    .dataframe thead tr:only-child th {\n",
       "        text-align: right;\n",
       "    }\n",
       "\n",
       "    .dataframe thead th {\n",
       "        text-align: left;\n",
       "    }\n",
       "\n",
       "    .dataframe tbody tr th {\n",
       "        vertical-align: top;\n",
       "    }\n",
       "</style>\n",
       "<table border=\"1\" class=\"dataframe\">\n",
       "  <thead>\n",
       "    <tr style=\"text-align: right;\">\n",
       "      <th></th>\n",
       "      <th>id</th>\n",
       "      <th>vendor_id</th>\n",
       "      <th>pickup_datetime</th>\n",
       "      <th>dropoff_datetime</th>\n",
       "      <th>passenger_count</th>\n",
       "      <th>pickup_longitude</th>\n",
       "      <th>pickup_latitude</th>\n",
       "      <th>dropoff_longitude</th>\n",
       "      <th>dropoff_latitude</th>\n",
       "      <th>store_and_fwd_flag</th>\n",
       "      <th>...</th>\n",
       "      <th>vishigh</th>\n",
       "      <th>visavg</th>\n",
       "      <th>vislow</th>\n",
       "      <th>windhigh</th>\n",
       "      <th>windavg</th>\n",
       "      <th>preceiphigh</th>\n",
       "      <th>precipsum</th>\n",
       "      <th>Events</th>\n",
       "      <th>Precip</th>\n",
       "      <th>Snow</th>\n",
       "    </tr>\n",
       "  </thead>\n",
       "  <tbody>\n",
       "    <tr>\n",
       "      <th>0</th>\n",
       "      <td>id2875421</td>\n",
       "      <td>2</td>\n",
       "      <td>2016-03-14 17:24:55</td>\n",
       "      <td>2016-03-14 17:32:30</td>\n",
       "      <td>1</td>\n",
       "      <td>-73.982154846191392</td>\n",
       "      <td>40.767936706542969</td>\n",
       "      <td>-73.964630126953125</td>\n",
       "      <td>40.765602111816406</td>\n",
       "      <td>0</td>\n",
       "      <td>...</td>\n",
       "      <td>10</td>\n",
       "      <td>8</td>\n",
       "      <td>3</td>\n",
       "      <td>24</td>\n",
       "      <td>13</td>\n",
       "      <td>37</td>\n",
       "      <td>0.000000000000000</td>\n",
       "      <td></td>\n",
       "      <td>0.290000000000000</td>\n",
       "      <td>0.000000000000000</td>\n",
       "    </tr>\n",
       "    <tr>\n",
       "      <th>1</th>\n",
       "      <td>id2129090</td>\n",
       "      <td>1</td>\n",
       "      <td>2016-03-14 14:05:39</td>\n",
       "      <td>2016-03-14 14:28:05</td>\n",
       "      <td>1</td>\n",
       "      <td>-73.975090026855469</td>\n",
       "      <td>40.758766174316406</td>\n",
       "      <td>-73.953201293945312</td>\n",
       "      <td>40.765068054199219</td>\n",
       "      <td>0</td>\n",
       "      <td>...</td>\n",
       "      <td>10</td>\n",
       "      <td>8</td>\n",
       "      <td>3</td>\n",
       "      <td>24</td>\n",
       "      <td>13</td>\n",
       "      <td>37</td>\n",
       "      <td>0.000000000000000</td>\n",
       "      <td></td>\n",
       "      <td>0.290000000000000</td>\n",
       "      <td>0.000000000000000</td>\n",
       "    </tr>\n",
       "    <tr>\n",
       "      <th>2</th>\n",
       "      <td>id0256505</td>\n",
       "      <td>1</td>\n",
       "      <td>2016-03-14 15:04:38</td>\n",
       "      <td>2016-03-14 15:16:13</td>\n",
       "      <td>1</td>\n",
       "      <td>-73.994483947753906</td>\n",
       "      <td>40.745086669921882</td>\n",
       "      <td>-73.998992919921875</td>\n",
       "      <td>40.722709655761719</td>\n",
       "      <td>0</td>\n",
       "      <td>...</td>\n",
       "      <td>10</td>\n",
       "      <td>8</td>\n",
       "      <td>3</td>\n",
       "      <td>24</td>\n",
       "      <td>13</td>\n",
       "      <td>37</td>\n",
       "      <td>0.000000000000000</td>\n",
       "      <td></td>\n",
       "      <td>0.290000000000000</td>\n",
       "      <td>0.000000000000000</td>\n",
       "    </tr>\n",
       "    <tr>\n",
       "      <th>3</th>\n",
       "      <td>id3863815</td>\n",
       "      <td>2</td>\n",
       "      <td>2016-03-14 04:24:36</td>\n",
       "      <td>2016-03-14 04:37:11</td>\n",
       "      <td>3</td>\n",
       "      <td>-73.944358825683580</td>\n",
       "      <td>40.714488983154297</td>\n",
       "      <td>-73.910530090332031</td>\n",
       "      <td>40.709491729736328</td>\n",
       "      <td>0</td>\n",
       "      <td>...</td>\n",
       "      <td>10</td>\n",
       "      <td>8</td>\n",
       "      <td>3</td>\n",
       "      <td>24</td>\n",
       "      <td>13</td>\n",
       "      <td>37</td>\n",
       "      <td>0.000000000000000</td>\n",
       "      <td></td>\n",
       "      <td>0.290000000000000</td>\n",
       "      <td>0.000000000000000</td>\n",
       "    </tr>\n",
       "    <tr>\n",
       "      <th>4</th>\n",
       "      <td>id3817493</td>\n",
       "      <td>2</td>\n",
       "      <td>2016-03-14 14:57:56</td>\n",
       "      <td>2016-03-14 15:15:26</td>\n",
       "      <td>1</td>\n",
       "      <td>-73.952880859375000</td>\n",
       "      <td>40.766468048095696</td>\n",
       "      <td>-73.978630065917969</td>\n",
       "      <td>40.761920928955078</td>\n",
       "      <td>0</td>\n",
       "      <td>...</td>\n",
       "      <td>10</td>\n",
       "      <td>8</td>\n",
       "      <td>3</td>\n",
       "      <td>24</td>\n",
       "      <td>13</td>\n",
       "      <td>37</td>\n",
       "      <td>0.000000000000000</td>\n",
       "      <td></td>\n",
       "      <td>0.290000000000000</td>\n",
       "      <td>0.000000000000000</td>\n",
       "    </tr>\n",
       "  </tbody>\n",
       "</table>\n",
       "<p>5 rows × 36 columns</p>\n",
       "</div>"
      ],
      "text/plain": [
       "          id  vendor_id     pickup_datetime    dropoff_datetime  \\\n",
       "0  id2875421          2 2016-03-14 17:24:55 2016-03-14 17:32:30   \n",
       "1  id2129090          1 2016-03-14 14:05:39 2016-03-14 14:28:05   \n",
       "2  id0256505          1 2016-03-14 15:04:38 2016-03-14 15:16:13   \n",
       "3  id3863815          2 2016-03-14 04:24:36 2016-03-14 04:37:11   \n",
       "4  id3817493          2 2016-03-14 14:57:56 2016-03-14 15:15:26   \n",
       "\n",
       "   passenger_count    pickup_longitude    pickup_latitude   dropoff_longitude  \\\n",
       "0                1 -73.982154846191392 40.767936706542969 -73.964630126953125   \n",
       "1                1 -73.975090026855469 40.758766174316406 -73.953201293945312   \n",
       "2                1 -73.994483947753906 40.745086669921882 -73.998992919921875   \n",
       "3                3 -73.944358825683580 40.714488983154297 -73.910530090332031   \n",
       "4                1 -73.952880859375000 40.766468048095696 -73.978630065917969   \n",
       "\n",
       "    dropoff_latitude  store_and_fwd_flag        ...         vishigh  visavg  \\\n",
       "0 40.765602111816406                   0        ...              10       8   \n",
       "1 40.765068054199219                   0        ...              10       8   \n",
       "2 40.722709655761719                   0        ...              10       8   \n",
       "3 40.709491729736328                   0        ...              10       8   \n",
       "4 40.761920928955078                   0        ...              10       8   \n",
       "\n",
       "   vislow windhigh  windavg  preceiphigh         precipsum  Events  \\\n",
       "0       3       24       13           37 0.000000000000000           \n",
       "1       3       24       13           37 0.000000000000000           \n",
       "2       3       24       13           37 0.000000000000000           \n",
       "3       3       24       13           37 0.000000000000000           \n",
       "4       3       24       13           37 0.000000000000000           \n",
       "\n",
       "             Precip              Snow  \n",
       "0 0.290000000000000 0.000000000000000  \n",
       "1 0.290000000000000 0.000000000000000  \n",
       "2 0.290000000000000 0.000000000000000  \n",
       "3 0.290000000000000 0.000000000000000  \n",
       "4 0.290000000000000 0.000000000000000  \n",
       "\n",
       "[5 rows x 36 columns]"
      ]
     },
     "execution_count": 19,
     "metadata": {},
     "output_type": "execute_result"
    }
   ],
   "source": [
    "df_join=df[df['within_min_range']<130].merge(df_w, on='Date', how='inner')\n",
    "\n",
    "print(\"The deed is done\")\n",
    "df_join.head()"
   ]
  },
  {
   "cell_type": "markdown",
   "metadata": {},
   "source": [
    "## Data Analysis"
   ]
  },
  {
   "cell_type": "markdown",
   "metadata": {},
   "source": [
    "### Check which columns are numeric in data"
   ]
  },
  {
   "cell_type": "markdown",
   "metadata": {},
   "source": [
    "### Data types:"
   ]
  },
  {
   "cell_type": "code",
   "execution_count": 20,
   "metadata": {},
   "outputs": [
    {
     "data": {
      "text/plain": [
       "id                            object\n",
       "vendor_id                      int64\n",
       "pickup_datetime       datetime64[ns]\n",
       "dropoff_datetime      datetime64[ns]\n",
       "passenger_count                int64\n",
       "pickup_longitude             float64\n",
       "pickup_latitude              float64\n",
       "dropoff_longitude            float64\n",
       "dropoff_latitude             float64\n",
       "store_and_fwd_flag             int64\n",
       "trip_duration                  int64\n",
       "within_min_range               int64\n",
       "total_distance                 int32\n",
       "Date                  datetime64[ns]\n",
       "dtype: object"
      ]
     },
     "execution_count": 20,
     "metadata": {},
     "output_type": "execute_result"
    }
   ],
   "source": [
    "df.dtypes"
   ]
  },
  {
   "cell_type": "code",
   "execution_count": 21,
   "metadata": {},
   "outputs": [
    {
     "data": {
      "text/plain": [
       "id                            object\n",
       "vendor_id                      int64\n",
       "pickup_datetime       datetime64[ns]\n",
       "dropoff_datetime      datetime64[ns]\n",
       "passenger_count                int64\n",
       "pickup_longitude             float64\n",
       "pickup_latitude              float64\n",
       "dropoff_longitude            float64\n",
       "dropoff_latitude             float64\n",
       "store_and_fwd_flag             int64\n",
       "trip_duration                  int64\n",
       "within_min_range               int64\n",
       "total_distance                 int32\n",
       "Date                  datetime64[ns]\n",
       "temphigh                       int64\n",
       "tempavg                        int64\n",
       "templow                        int64\n",
       "dewhigh                        int64\n",
       "dewavg                         int64\n",
       "dewlow                         int64\n",
       "humhigh                        int64\n",
       "humavg                         int64\n",
       "humlow                         int64\n",
       "seahigh                      float64\n",
       "seaavg                       float64\n",
       "sealow                       float64\n",
       "vishigh                        int64\n",
       "visavg                         int64\n",
       "vislow                         int64\n",
       "windhigh                       int64\n",
       "windavg                        int64\n",
       "preceiphigh                    int64\n",
       "precipsum                    float64\n",
       "Events                        object\n",
       "Precip                       float64\n",
       "Snow                         float64\n",
       "dtype: object"
      ]
     },
     "execution_count": 21,
     "metadata": {},
     "output_type": "execute_result"
    }
   ],
   "source": [
    "df_join.dtypes"
   ]
  },
  {
   "cell_type": "markdown",
   "metadata": {},
   "source": [
    "### Finding missing values:"
   ]
  },
  {
   "cell_type": "code",
   "execution_count": 22,
   "metadata": {},
   "outputs": [
    {
     "data": {
      "text/plain": [
       "id                    1458644\n",
       "vendor_id             1458644\n",
       "pickup_datetime       1458644\n",
       "dropoff_datetime      1458644\n",
       "passenger_count       1458644\n",
       "pickup_longitude      1458644\n",
       "pickup_latitude       1458644\n",
       "dropoff_longitude     1458644\n",
       "dropoff_latitude      1458644\n",
       "store_and_fwd_flag    1458644\n",
       "trip_duration         1458644\n",
       "within_min_range      1458644\n",
       "total_distance        1458644\n",
       "Date                  1458644\n",
       "dtype: int64"
      ]
     },
     "execution_count": 22,
     "metadata": {},
     "output_type": "execute_result"
    }
   ],
   "source": [
    "df.count() "
   ]
  },
  {
   "cell_type": "markdown",
   "metadata": {},
   "source": [
    "So we have do not have any missing data in this data set."
   ]
  },
  {
   "cell_type": "markdown",
   "metadata": {},
   "source": [
    "### Data range for data"
   ]
  },
  {
   "cell_type": "code",
   "execution_count": 23,
   "metadata": {},
   "outputs": [
    {
     "name": "stdout",
     "output_type": "stream",
     "text": [
      "pickup_datetime min is 2016-01-01 00:00:17 and max is 2016-06-30 23:59:39\n",
      "dropoff_datetime min is 2016-01-01 00:03:31 and max is 2016-07-01 23:02:03\n",
      "trip_duration min is 1 and max is 3526282\n"
     ]
    }
   ],
   "source": [
    "print(\"pickup_datetime min is \" + str(df['pickup_datetime'].min()) + \" and max is \" + str(df['pickup_datetime'].max()))\n",
    "print(\"dropoff_datetime min is \" + str(df['dropoff_datetime'].min()) + \" and max is \" + str(df['dropoff_datetime'].max()))\n",
    "print(\"trip_duration min is \" + str(df['trip_duration'].min()) + \" and max is \" + str(df['trip_duration'].max()))\n",
    "#print df.loc[[978383]]\n"
   ]
  },
  {
   "cell_type": "markdown",
   "metadata": {},
   "source": [
    "### Let's see if we have uniqueness in data"
   ]
  },
  {
   "cell_type": "code",
   "execution_count": 24,
   "metadata": {
    "scrolled": true
   },
   "outputs": [
    {
     "data": {
      "text/plain": [
       "id                    1458644\n",
       "vendor_id                   2\n",
       "pickup_datetime       1380222\n",
       "dropoff_datetime      1380377\n",
       "passenger_count            10\n",
       "pickup_longitude        23047\n",
       "pickup_latitude         45245\n",
       "dropoff_longitude       33821\n",
       "dropoff_latitude        62519\n",
       "store_and_fwd_flag          2\n",
       "trip_duration            7417\n",
       "within_min_range           25\n",
       "total_distance          72615\n",
       "Date                      182\n",
       "dtype: int64"
      ]
     },
     "execution_count": 24,
     "metadata": {},
     "output_type": "execute_result"
    }
   ],
   "source": [
    "df.apply(pd.Series.nunique)\n",
    "\n"
   ]
  },
  {
   "cell_type": "markdown",
   "metadata": {},
   "source": [
    "### Strip Off Non Numeric Columns"
   ]
  },
  {
   "cell_type": "code",
   "execution_count": 25,
   "metadata": {
    "scrolled": true
   },
   "outputs": [
    {
     "name": "stdout",
     "output_type": "stream",
     "text": [
      "Non numeric columns to look out for: ['id' 'pickup_datetime' 'dropoff_datetime' 'Date' 'Events']\n"
     ]
    }
   ],
   "source": [
    "numerics = ['int16', 'int32', 'int64', 'float16', 'float32', 'float64']\n",
    "nonnumeric_cols=df_join.select_dtypes(exclude=numerics).columns.values\n",
    "print(\"Non numeric columns to look out for: \" + str(nonnumeric_cols))"
   ]
  },
  {
   "cell_type": "markdown",
   "metadata": {},
   "source": [
    "### Do we need these? Let's say no for now"
   ]
  },
  {
   "cell_type": "code",
   "execution_count": 20,
   "metadata": {},
   "outputs": [
    {
     "name": "stdout",
     "output_type": "stream",
     "text": [
      "Non-numeric columns dropped\n"
     ]
    }
   ],
   "source": [
    "#df_join = df_join.drop(['id','pickup_datetime','dropoff_datetime','Events'],axis=1)\n",
    "print(\"Non-numeric columns dropped\")\n"
   ]
  },
  {
   "cell_type": "code",
   "execution_count": 31,
   "metadata": {},
   "outputs": [
    {
     "data": {
      "text/plain": [
       "id                            object\n",
       "vendor_id                      int64\n",
       "pickup_datetime       datetime64[ns]\n",
       "dropoff_datetime      datetime64[ns]\n",
       "passenger_count                int64\n",
       "pickup_longitude             float64\n",
       "pickup_latitude              float64\n",
       "dropoff_longitude            float64\n",
       "dropoff_latitude             float64\n",
       "store_and_fwd_flag             int64\n",
       "trip_duration                  int64\n",
       "within_min_range               int64\n",
       "total_distance                 int32\n",
       "Date                  datetime64[ns]\n",
       "temphigh                       int64\n",
       "tempavg                        int64\n",
       "templow                        int64\n",
       "dewhigh                        int64\n",
       "dewavg                         int64\n",
       "dewlow                         int64\n",
       "humhigh                        int64\n",
       "humavg                         int64\n",
       "humlow                         int64\n",
       "seahigh                      float64\n",
       "seaavg                       float64\n",
       "sealow                       float64\n",
       "vishigh                        int64\n",
       "visavg                         int64\n",
       "vislow                         int64\n",
       "windhigh                       int64\n",
       "windavg                        int64\n",
       "preceiphigh                    int64\n",
       "precipsum                    float64\n",
       "Events                        object\n",
       "Precip                       float64\n",
       "Snow                         float64\n",
       "dtype: object"
      ]
     },
     "execution_count": 31,
     "metadata": {},
     "output_type": "execute_result"
    }
   ],
   "source": [
    "df_join.dtypes\n",
    "#df_join[\"id\"]"
   ]
  },
  {
   "cell_type": "markdown",
   "metadata": {},
   "source": [
    "### Fixing missing values.."
   ]
  },
  {
   "cell_type": "markdown",
   "metadata": {},
   "source": [
    "Let's see if we have any missing values anywhere"
   ]
  },
  {
   "cell_type": "code",
   "execution_count": 32,
   "metadata": {},
   "outputs": [
    {
     "data": {
      "text/plain": [
       "False"
      ]
     },
     "execution_count": 32,
     "metadata": {},
     "output_type": "execute_result"
    }
   ],
   "source": [
    "df_join.isnull().values.any()"
   ]
  },
  {
   "cell_type": "markdown",
   "metadata": {},
   "source": [
    "### Free up Memory"
   ]
  },
  {
   "cell_type": "code",
   "execution_count": 23,
   "metadata": {
    "collapsed": true
   },
   "outputs": [],
   "source": [
    "#Release memory\n",
    "del df\n",
    "#del df_join"
   ]
  },
  {
   "cell_type": "markdown",
   "metadata": {},
   "source": [
    "# Visualization:"
   ]
  },
  {
   "cell_type": "markdown",
   "metadata": {},
   "source": [
    "Let us see now if there is any relationship between average monthly temperature versus trip duration and total_distance"
   ]
  },
  {
   "cell_type": "code",
   "execution_count": 33,
   "metadata": {},
   "outputs": [],
   "source": [
    "#Aggregation and Joins:\n",
    "df_bar = df_join.groupby('tempavg', as_index=False)['trip_duration','total_distance'].mean()\n",
    "\n",
    "df_bar_count21 = df_join.groupby(['tempavg','Date'], as_index=False)['id'].count()\n",
    "df_bar_count = df_bar_count21.groupby(['tempavg'], as_index=False)['id'].sum()\n",
    "df_bar_join=df_bar.merge(df_bar_count, on='tempavg', how='inner')\n"
   ]
  },
  {
   "cell_type": "code",
   "execution_count": 34,
   "metadata": {},
   "outputs": [
    {
     "name": "stdout",
     "output_type": "stream",
     "text": [
      "Correlation between average daily temperature and total trip duration covered is: 0.645687235493\n",
      "Correlation between average daily temperature and total distance covered is: 0.488147161639\n",
      "Correlation between average daily temperature and total rides is: 0.0702330533882\n"
     ]
    },
    {
     "data": {
      "image/png": "[encoded data removed]",
      "text/plain": [
       "<matplotlib.figure.Figure at 0x28a849c5ac8>"
      ]
     },
     "metadata": {},
     "output_type": "display_data"
    },
    {
     "data": {
      "image/png": "[encoded data removed]",
      "text/plain": [
       "<matplotlib.figure.Figure at 0x28a84b217f0>"
      ]
     },
     "metadata": {},
     "output_type": "display_data"
    }
   ],
   "source": [
    "#Scaling:\n",
    "features_to_scale = ['trip_duration','total_distance','id']\n",
    "df_bar_join[features_to_scale] -= df_bar_join[features_to_scale].min()  # equivalent to df = df - df.min()\n",
    "df_bar_join[features_to_scale] /= df_bar_join[features_to_scale].max() \n",
    "\n",
    "#Plotting:\n",
    "fig = plt.figure(figsize=(18, 10))\n",
    "ax1 = fig.add_subplot(221)\n",
    "ax2 = fig.add_subplot(222)\n",
    "ax3 = fig.add_subplot(223)\n",
    "\n",
    "sns.regplot(x='tempavg',y='trip_duration',data=df_bar_join,fit_reg=True, ax=ax1)\n",
    "sns.regplot(x='tempavg',y='total_distance',data=df_bar_join,fit_reg=True, ax=ax2)\n",
    "sns.regplot(x='tempavg',y='id',data=df_bar_join,fit_reg=True, ax=ax3)\n",
    "\n",
    "ax1.set(xlabel='Mean Daily Temperature', ylabel='Mean Trip Duration')\n",
    "ax2.set(xlabel='Mean Daily Temperature', ylabel='Mean Distance Covered')\n",
    "ax3.set(xlabel='Mean Daily Temperature', ylabel='Count of Rides')\n",
    "ax1.set_title('Avg. Temp vs. Trip Duration', fontsize=18,color=\"b\",alpha=0.5)\n",
    "ax2.set_title('Avg. Temp vs. Distance Covered', fontsize=18,color=\"r\",alpha=0.5)\n",
    "ax3.set_title('Avg. Temp vs. Count of Rides', fontsize=18,color=\"g\",alpha=0.5)\n",
    "\n",
    "#Combined Graph:\n",
    "ax = df_bar_join.plot(x='tempavg',figsize=(18, 6),title = 'Combined Analysis with respect to change in Average Daily Temperature')\n",
    "ax.set_ylabel('Mean Trip Duration | Mean Distance Covered | Count of Rides')\n",
    "ax.set_xlabel('Mean Temperature')\n",
    "\n",
    "#Coorelation Analysis:\n",
    "print('Correlation between average daily temperature and total trip duration covered is: '+ str(pd.to_numeric(df_bar_join['tempavg']).corr(df_bar_join['trip_duration'])))\n",
    "print('Correlation between average daily temperature and total distance covered is: '+ str(pd.to_numeric(df_bar_join['tempavg']).corr(df_bar_join['total_distance'])))\n",
    "print('Correlation between average daily temperature and total rides is: '+ str(pd.to_numeric(df_bar_join['tempavg']).corr(df_bar_join['id'])))\n"
   ]
  },
  {
   "cell_type": "markdown",
   "metadata": {},
   "source": [
    "We can make three assumptions here:\n",
    "\n",
    "When the average daily goes up, there is gradual increase in :\n",
    "\n",
    "1- Total distance covered is slightly correlated to increase in temperature\n",
    "2- Total trip Duration is relatively more correlated to increase in temperature\n",
    "3- Temperature increase does not have any significant impact on total number of rides\n",
    "\n",
    "Keeping in view point number 3, we can attribute total increase in duration and distance to increase in traffic. Causes for this increase are ambiguous at this point. Something to work on for future"
   ]
  },
  {
   "cell_type": "markdown",
   "metadata": {},
   "source": [
    "Now, lets do some **Vendor Analysis**"
   ]
  },
  {
   "cell_type": "code",
   "execution_count": 35,
   "metadata": {},
   "outputs": [
    {
     "data": {
      "text/plain": [
       "<matplotlib.legend.Legend at 0x28a89f64cc0>"
      ]
     },
     "execution_count": 35,
     "metadata": {},
     "output_type": "execute_result"
    },
    {
     "data": {
      "image/png": "[encoded data removed]",
      "text/plain": [
       "<matplotlib.figure.Figure at 0x28ad0bb2438>"
      ]
     },
     "metadata": {},
     "output_type": "display_data"
    }
   ],
   "source": [
    "df_bar = df_join.groupby(['tempavg','vendor_id'], as_index=False)['trip_duration'].mean()\n",
    "\n",
    "fig = plt.figure(figsize=(18, 10))\n",
    "ax1 = fig.add_subplot(111)\n",
    "\n",
    "sns.regplot(x='tempavg',y='trip_duration',data=df_bar[df_bar['vendor_id']==1],fit_reg=True, ax=ax1, label = 'Vendor 1')\n",
    "sns.regplot(x='tempavg',y='trip_duration',data=df_bar[df_bar['vendor_id']==2],fit_reg=True, ax=ax1, label = 'Vendor 2')\n",
    "ax1.legend(loc=1, prop={'size': 15})\n"
   ]
  },
  {
   "cell_type": "markdown",
   "metadata": {},
   "source": [
    "Not much behavior difference between the two vendors with respect to temperature"
   ]
  },
  {
   "cell_type": "markdown",
   "metadata": {},
   "source": [
    "# Train/Test split"
   ]
  },
  {
   "cell_type": "code",
   "execution_count": 36,
   "metadata": {},
   "outputs": [
    {
     "name": "stdout",
     "output_type": "stream",
     "text": [
      "1165014\n",
      "291377\n"
     ]
    }
   ],
   "source": [
    "np.random.seed()\n",
    "msk = np.random.rand(len(df_join)) < 0.8\n",
    "dfTrain = df_join[msk]\n",
    "dfTest = df_join[~msk]\n",
    "\n",
    "print(len(dfTrain))\n",
    "print(len(dfTest))"
   ]
  },
  {
   "cell_type": "markdown",
   "metadata": {},
   "source": [
    "# Multi Variate Regression Analysis"
   ]
  },
  {
   "cell_type": "markdown",
   "metadata": {},
   "source": [
    "Let's build and MVR"
   ]
  },
  {
   "cell_type": "code",
   "execution_count": 37,
   "metadata": {},
   "outputs": [
    {
     "data": {
      "text/plain": [
       "['vendor_id',\n",
       " 'pickup_datetime',\n",
       " 'dropoff_datetime',\n",
       " 'passenger_count',\n",
       " 'pickup_longitude',\n",
       " 'pickup_latitude',\n",
       " 'dropoff_longitude',\n",
       " 'dropoff_latitude',\n",
       " 'store_and_fwd_flag',\n",
       " 'total_distance',\n",
       " 'temphigh',\n",
       " 'tempavg',\n",
       " 'templow',\n",
       " 'dewhigh',\n",
       " 'dewavg',\n",
       " 'dewlow',\n",
       " 'humhigh',\n",
       " 'humavg',\n",
       " 'humlow',\n",
       " 'seahigh',\n",
       " 'seaavg',\n",
       " 'sealow',\n",
       " 'vishigh',\n",
       " 'visavg',\n",
       " 'vislow',\n",
       " 'windhigh',\n",
       " 'windavg',\n",
       " 'preceiphigh',\n",
       " 'precipsum',\n",
       " 'Events',\n",
       " 'Precip',\n",
       " 'Snow']"
      ]
     },
     "execution_count": 37,
     "metadata": {},
     "output_type": "execute_result"
    }
   ],
   "source": [
    "df_Train_features = pd.DataFrame(dfTrain.copy())\n",
    "df_Train_features = df_Train_features.drop(['trip_duration','Date','within_min_range'],axis=1)\n",
    "features = list(df_Train_features.columns[1:])\n",
    "del df_Train_features\n",
    "features\n",
    "\n",
    " "
   ]
  },
  {
   "cell_type": "markdown",
   "metadata": {},
   "source": [
    "Prepare for clustering the pickup coordinates:"
   ]
  },
  {
   "cell_type": "code",
   "execution_count": 38,
   "metadata": {},
   "outputs": [
    {
     "data": {
      "text/plain": [
       "<matplotlib.collections.PathCollection at 0x28a8a6a4f98>"
      ]
     },
     "execution_count": 38,
     "metadata": {},
     "output_type": "execute_result"
    },
    {
     "data": {
      "image/png": "[encoded data removed]",
      "text/plain": [
       "<matplotlib.figure.Figure at 0x28af84268d0>"
      ]
     },
     "metadata": {},
     "output_type": "display_data"
    }
   ],
   "source": [
    "model = KMeans(n_clusters=50)\n",
    "model = model.fit(scale(dfTrain[['pickup_longitude', 'pickup_latitude']]))\n",
    "plt.figure(figsize=(8, 6))\n",
    "plt.scatter(dfTrain['pickup_longitude'], dfTrain['pickup_latitude'], c=model.labels_.astype(float),marker='x')"
   ]
  },
  {
   "cell_type": "markdown",
   "metadata": {},
   "source": [
    "Prepare for clustering the dropoff coordinates:"
   ]
  },
  {
   "cell_type": "code",
   "execution_count": 39,
   "metadata": {},
   "outputs": [
    {
     "data": {
      "text/plain": [
       "id                            object\n",
       "vendor_id                      int64\n",
       "pickup_datetime       datetime64[ns]\n",
       "dropoff_datetime      datetime64[ns]\n",
       "passenger_count                int64\n",
       "pickup_longitude             float64\n",
       "pickup_latitude              float64\n",
       "dropoff_longitude            float64\n",
       "dropoff_latitude             float64\n",
       "store_and_fwd_flag             int64\n",
       "trip_duration                  int64\n",
       "within_min_range               int64\n",
       "total_distance                 int32\n",
       "Date                  datetime64[ns]\n",
       "temphigh                       int64\n",
       "tempavg                        int64\n",
       "templow                        int64\n",
       "dewhigh                        int64\n",
       "dewavg                         int64\n",
       "dewlow                         int64\n",
       "humhigh                        int64\n",
       "humavg                         int64\n",
       "humlow                         int64\n",
       "seahigh                      float64\n",
       "seaavg                       float64\n",
       "sealow                       float64\n",
       "vishigh                        int64\n",
       "visavg                         int64\n",
       "vislow                         int64\n",
       "windhigh                       int64\n",
       "windavg                        int64\n",
       "preceiphigh                    int64\n",
       "precipsum                    float64\n",
       "Events                        object\n",
       "Precip                       float64\n",
       "Snow                         float64\n",
       "dtype: object"
      ]
     },
     "execution_count": 39,
     "metadata": {},
     "output_type": "execute_result"
    }
   ],
   "source": [
    "dfTrain.dtypes"
   ]
  },
  {
   "cell_type": "markdown",
   "metadata": {},
   "source": [
    "MVR starts here"
   ]
  },
  {
   "cell_type": "code",
   "execution_count": 40,
   "metadata": {},
   "outputs": [
    {
     "data": {
      "text/plain": [
       "0.33505831101003536"
      ]
     },
     "execution_count": 40,
     "metadata": {},
     "output_type": "execute_result"
    }
   ],
   "source": [
    "features=['vendor_id','passenger_count','store_and_fwd_flag','total_distance','temphigh','tempavg','templow','dewhigh','dewavg','dewlow','humhigh','humavg','humlow','vishigh','visavg','vislow','windhigh','windavg','preceiphigh']\n",
    "X = scale(dfTrain[features])\n",
    "y = dfTrain['trip_duration']\n",
    "\n",
    "clf = ExtraTreesRegressor()\n",
    "est = clf.fit(X,y)\n",
    "\n",
    "clf.score(scale(dfTest[features]),dfTest['trip_duration'])\n",
    "\n",
    "#est.summary()"
   ]
  },
  {
   "cell_type": "markdown",
   "metadata": {},
   "source": [
    "# Test- Mania"
   ]
  },
  {
   "cell_type": "code",
   "execution_count": 44,
   "metadata": {},
   "outputs": [],
   "source": [
    "test_file = \"test.csv\"\n",
    "df_Test = pd.read_csv(test_file, header = 0)\n",
    "\n",
    "df_Test['pickup_datetime'] = pd.to_datetime(df_Test['pickup_datetime'])\n",
    "#df_Test['dropoff_datetime'] = pd.to_datetime(df_Test['dropoff_datetime'])\n",
    "df_w['Date'] = pd.to_datetime(df_w['Date'])\n",
    "\n",
    "d={'Y':1 , 'N':0}\n",
    "df_Test['store_and_fwd_flag'] = df_Test['store_and_fwd_flag'].map(d)\n",
    "df_Test['total_distance'] = df_Test.apply(lambda x: vincenty((x['pickup_longitude'],x['pickup_latitude']), (x['dropoff_longitude'],   x['dropoff_latitude'])).feet, axis=1).astype(int)\n",
    "\n",
    "df_Test['Date']=df_Test['pickup_datetime'].dt.year.map(str)+'-'+df_Test['pickup_datetime'].dt.month.map(str)+'-'+df_Test['pickup_datetime'].dt.day.map(str)\n",
    "df_Test['Date']=pd.to_datetime(df_Test['Date'])\n",
    "df_w['Date']=pd.to_datetime(df_w['Date'])\n"
   ]
  },
  {
   "cell_type": "code",
   "execution_count": 50,
   "metadata": {},
   "outputs": [
    {
     "data": {
      "text/plain": [
       "id                            object\n",
       "vendor_id                      int64\n",
       "pickup_datetime       datetime64[ns]\n",
       "passenger_count                int64\n",
       "pickup_longitude             float64\n",
       "pickup_latitude              float64\n",
       "dropoff_longitude            float64\n",
       "dropoff_latitude             float64\n",
       "store_and_fwd_flag             int64\n",
       "total_distance                 int32\n",
       "Date                  datetime64[ns]\n",
       "dtype: object"
      ]
     },
     "execution_count": 50,
     "metadata": {},
     "output_type": "execute_result"
    }
   ],
   "source": [
    "\n",
    "df_Test.dtypes\n",
    "#df_Test.head()"
   ]
  },
  {
   "cell_type": "code",
   "execution_count": 48,
   "metadata": {},
   "outputs": [
    {
     "data": {
      "text/html": [
       "<div>\n",
       "<style>\n",
       "    .dataframe thead tr:only-child th {\n",
       "        text-align: right;\n",
       "    }\n",
       "\n",
       "    .dataframe thead th {\n",
       "        text-align: left;\n",
       "    }\n",
       "\n",
       "    .dataframe tbody tr th {\n",
       "        vertical-align: top;\n",
       "    }\n",
       "</style>\n",
       "<table border=\"1\" class=\"dataframe\">\n",
       "  <thead>\n",
       "    <tr style=\"text-align: right;\">\n",
       "      <th></th>\n",
       "      <th>Date</th>\n",
       "      <th>temphigh</th>\n",
       "      <th>tempavg</th>\n",
       "      <th>templow</th>\n",
       "      <th>dewhigh</th>\n",
       "      <th>dewavg</th>\n",
       "      <th>dewlow</th>\n",
       "      <th>humhigh</th>\n",
       "      <th>humavg</th>\n",
       "      <th>humlow</th>\n",
       "      <th>...</th>\n",
       "      <th>vishigh</th>\n",
       "      <th>visavg</th>\n",
       "      <th>vislow</th>\n",
       "      <th>windhigh</th>\n",
       "      <th>windavg</th>\n",
       "      <th>preceiphigh</th>\n",
       "      <th>precipsum</th>\n",
       "      <th>Events</th>\n",
       "      <th>Precip</th>\n",
       "      <th>Snow</th>\n",
       "    </tr>\n",
       "  </thead>\n",
       "  <tbody>\n",
       "    <tr>\n",
       "      <th>0</th>\n",
       "      <td>2016-01-01</td>\n",
       "      <td>44</td>\n",
       "      <td>40</td>\n",
       "      <td>37</td>\n",
       "      <td>32</td>\n",
       "      <td>28</td>\n",
       "      <td>21</td>\n",
       "      <td>70</td>\n",
       "      <td>61</td>\n",
       "      <td>52</td>\n",
       "      <td>...</td>\n",
       "      <td>10</td>\n",
       "      <td>10</td>\n",
       "      <td>8</td>\n",
       "      <td>23</td>\n",
       "      <td>8</td>\n",
       "      <td>39</td>\n",
       "      <td>0.000000000000000</td>\n",
       "      <td></td>\n",
       "      <td>0.000000000000000</td>\n",
       "      <td>0.000000000000000</td>\n",
       "    </tr>\n",
       "    <tr>\n",
       "      <th>1</th>\n",
       "      <td>2016-01-02</td>\n",
       "      <td>42</td>\n",
       "      <td>38</td>\n",
       "      <td>35</td>\n",
       "      <td>27</td>\n",
       "      <td>24</td>\n",
       "      <td>21</td>\n",
       "      <td>70</td>\n",
       "      <td>57</td>\n",
       "      <td>49</td>\n",
       "      <td>...</td>\n",
       "      <td>10</td>\n",
       "      <td>10</td>\n",
       "      <td>9</td>\n",
       "      <td>16</td>\n",
       "      <td>10</td>\n",
       "      <td>34</td>\n",
       "      <td>0.000000000000000</td>\n",
       "      <td></td>\n",
       "      <td>0.000000000000000</td>\n",
       "      <td>0.000000000000000</td>\n",
       "    </tr>\n",
       "    <tr>\n",
       "      <th>2</th>\n",
       "      <td>2016-01-03</td>\n",
       "      <td>48</td>\n",
       "      <td>42</td>\n",
       "      <td>35</td>\n",
       "      <td>28</td>\n",
       "      <td>27</td>\n",
       "      <td>25</td>\n",
       "      <td>70</td>\n",
       "      <td>60</td>\n",
       "      <td>40</td>\n",
       "      <td>...</td>\n",
       "      <td>10</td>\n",
       "      <td>10</td>\n",
       "      <td>8</td>\n",
       "      <td>17</td>\n",
       "      <td>10</td>\n",
       "      <td>33</td>\n",
       "      <td>0.000000000000000</td>\n",
       "      <td></td>\n",
       "      <td>0.000000000000000</td>\n",
       "      <td>0.000000000000000</td>\n",
       "    </tr>\n",
       "    <tr>\n",
       "      <th>3</th>\n",
       "      <td>2016-01-04</td>\n",
       "      <td>37</td>\n",
       "      <td>28</td>\n",
       "      <td>19</td>\n",
       "      <td>28</td>\n",
       "      <td>17</td>\n",
       "      <td>7</td>\n",
       "      <td>74</td>\n",
       "      <td>57</td>\n",
       "      <td>32</td>\n",
       "      <td>...</td>\n",
       "      <td>10</td>\n",
       "      <td>10</td>\n",
       "      <td>8</td>\n",
       "      <td>13</td>\n",
       "      <td>5</td>\n",
       "      <td>28</td>\n",
       "      <td>0.000000000000000</td>\n",
       "      <td></td>\n",
       "      <td>0.000000000000000</td>\n",
       "      <td>0.000000000000000</td>\n",
       "    </tr>\n",
       "    <tr>\n",
       "      <th>4</th>\n",
       "      <td>2016-01-05</td>\n",
       "      <td>35</td>\n",
       "      <td>25</td>\n",
       "      <td>15</td>\n",
       "      <td>18</td>\n",
       "      <td>11</td>\n",
       "      <td>5</td>\n",
       "      <td>93</td>\n",
       "      <td>55</td>\n",
       "      <td>33</td>\n",
       "      <td>...</td>\n",
       "      <td>10</td>\n",
       "      <td>10</td>\n",
       "      <td>9</td>\n",
       "      <td>14</td>\n",
       "      <td>6</td>\n",
       "      <td>40</td>\n",
       "      <td>0.000000000000000</td>\n",
       "      <td></td>\n",
       "      <td>0.000000000000000</td>\n",
       "      <td>0.000000000000000</td>\n",
       "    </tr>\n",
       "  </tbody>\n",
       "</table>\n",
       "<p>5 rows × 23 columns</p>\n",
       "</div>"
      ],
      "text/plain": [
       "        Date  temphigh  tempavg  templow  dewhigh  dewavg  dewlow  humhigh  \\\n",
       "0 2016-01-01        44       40       37       32      28      21       70   \n",
       "1 2016-01-02        42       38       35       27      24      21       70   \n",
       "2 2016-01-03        48       42       35       28      27      25       70   \n",
       "3 2016-01-04        37       28       19       28      17       7       74   \n",
       "4 2016-01-05        35       25       15       18      11       5       93   \n",
       "\n",
       "   humavg  humlow        ...         vishigh  visavg  vislow  windhigh  \\\n",
       "0      61      52        ...              10      10       8        23   \n",
       "1      57      49        ...              10      10       9        16   \n",
       "2      60      40        ...              10      10       8        17   \n",
       "3      57      32        ...              10      10       8        13   \n",
       "4      55      33        ...              10      10       9        14   \n",
       "\n",
       "   windavg  preceiphigh         precipsum  Events            Precip  \\\n",
       "0        8           39 0.000000000000000         0.000000000000000   \n",
       "1       10           34 0.000000000000000         0.000000000000000   \n",
       "2       10           33 0.000000000000000         0.000000000000000   \n",
       "3        5           28 0.000000000000000         0.000000000000000   \n",
       "4        6           40 0.000000000000000         0.000000000000000   \n",
       "\n",
       "               Snow  \n",
       "0 0.000000000000000  \n",
       "1 0.000000000000000  \n",
       "2 0.000000000000000  \n",
       "3 0.000000000000000  \n",
       "4 0.000000000000000  \n",
       "\n",
       "[5 rows x 23 columns]"
      ]
     },
     "execution_count": 48,
     "metadata": {},
     "output_type": "execute_result"
    }
   ],
   "source": [
    "df_w.head()"
   ]
  },
  {
   "cell_type": "code",
   "execution_count": null,
   "metadata": {
    "collapsed": true
   },
   "outputs": [],
   "source": [
    "\n",
    "df_join_Test=df_Test[df_Test['within_min_range']<130].merge(df_w, on='Date', how='inner')\n",
    "\n",
    "\n",
    "df_join_Test.head()\n",
    "df_join_Test = df_join_Test.drop(['id','pickup_datetime','Events'],axis=1)\n",
    "print(\"The deed is done\")\n",
    "\n",
    "clf.score(scale(df_join_Test[features]),df_join_Test['trip_duration'])"
   ]
  },
  {
   "cell_type": "markdown",
   "metadata": {},
   "source": [
    "## Using Random forests"
   ]
  },
  {
   "cell_type": "markdown",
   "metadata": {},
   "source": [
    "We'll use a random forest of 10 decision trees to predict employment of specific candidate profiles:"
   ]
  },
  {
   "cell_type": "code",
   "execution_count": 265,
   "metadata": {},
   "outputs": [
    {
     "data": {
      "text/plain": [
       "0.81714285714285717"
      ]
     },
     "execution_count": 265,
     "metadata": {},
     "output_type": "execute_result"
    }
   ],
   "source": [
    "from sklearn.feature_selection import RFE\n",
    "\n",
    "clf = RandomForestClassifier(n_estimators=100) #means make 1000 random forests\n",
    "clf = clf.fit(X, y)\n",
    "\n",
    "#dfTest.head()\n",
    "\n",
    "#dtTrainResults_RF=DataFrame(clf.predict(dfTrain[features]),columns=list([['Survived']]))\n",
    "dtTestResults_RF=DataFrame(clf.predict(dfTest[features]),columns=list([['Survived']]))\n",
    "\n",
    "#accuracy_score(dfTrain['Survived'], dtTrainResults_RF['Survived'], sample_weight=None)\n",
    "accuracy_score(dfTest['Survived'], dtTestResults_RF['Survived'], sample_weight=None)\n",
    "\n",
    "#RFE#\n",
    "#rfe = RFE(clf, 3)\n",
    "#rfe.fit(X, y)\n",
    "#dtTestResults_RF=DataFrame(clf.predict(dfTest[features]),columns=list([['Survived']]))\n",
    "#print accuracy_score(dfTest['Survived'], dtTestResults_RF['Survived'], sample_weight=None)"
   ]
  },
  {
   "cell_type": "markdown",
   "metadata": {},
   "source": [
    "# Results/Testing"
   ]
  },
  {
   "cell_type": "markdown",
   "metadata": {},
   "source": [
    "Now let's perform prediction on original Test dataset"
   ]
  },
  {
   "cell_type": "code",
   "execution_count": 266,
   "metadata": {
    "collapsed": true
   },
   "outputs": [],
   "source": [
    "#Now performing this on real test set\n",
    "##################\n",
    "# 1 #Loading file\n",
    "##################\n",
    "test_file = \"E:/2- GoogleDrive (Total 15GB)/Interests/Machine Learning/Udemy - Data Science and Machine Learning with Python/DataScience/TitanicTest.csv\"\n",
    "dfTestFinal = pd.read_csv(test_file,header=0)\n",
    "\n",
    "##################\n",
    "# 2 #Rectifying missing values\n",
    "##################\n",
    "d = {'male': 1, 'female': 0}\n",
    "dfTestFinal['Sex'] = dfTestFinal['Sex'].map(d)\n",
    "d = {'S': 0, 'Q': 1 ,'C':2}\n",
    "dfTestFinal['Embarked']=dfTestFinal['Embarked'].map(d)\n",
    "missFix_Test=dfTestFinal[features]\n",
    "fill_NaN_Test = Imputer(missing_values=np.nan, strategy='median', axis=1)\n",
    "imputed_DF_Test = pd.DataFrame(fill_NaN_Test.fit_transform(missFix_Test))\n",
    "imputed_DF_Test.columns = missFix_Test.columns\n",
    "imputed_DF_Test.index = missFix_Test.index\n",
    "\n",
    "##################\n",
    "# 3 #Performing Prediction\n",
    "##################\n",
    "clf.predict(imputed_DF_Test[features])\n",
    "dtTestResults_RF_Final=DataFrame(clf.predict(imputed_DF_Test[features]),columns=list([['Survived']]))\n",
    "\n",
    "#RFE#\n",
    "#rfe.predict(imputed_DF_Test[features])\n",
    "#dtTestResults_RF_Final=DataFrame(rfe.predict(imputed_DF_Test[features]),columns=list([['Survived']]))\n",
    "\n",
    "##################\n",
    "# 4 #Exporting Results\n",
    "##################\n",
    "Results_Main = dfTestFinal.join(dtTestResults_RF_Final['Survived'])\n",
    "results_file = \"E:/2- GoogleDrive (Total 15GB)/Interests/Machine Learning/Udemy - Data Science and Machine Learning with Python/DataScience/TitanicResults.csv\"\n",
    "Results_Main.to_csv(results_file)\n"
   ]
  },
  {
   "cell_type": "markdown",
   "metadata": {},
   "source": [
    "## Tree Graphical Representation"
   ]
  },
  {
   "cell_type": "markdown",
   "metadata": {},
   "source": [
    "Display it. Note you need to have pyplot2 installed for this to work.\n",
    "\n",
    "To read this decision tree, each condition branches left for \"true\" and right for \"false\". When you end up at a value, the value array represents how many samples exist in each target value. So value = [0. 5.] mean there are 0 \"Not Survived\" and 5 \"Survived\" by the time we get to that point. value = [3. 0.] means 3 Not Survived and 0 Survived."
   ]
  },
  {
   "cell_type": "code",
   "execution_count": 417,
   "metadata": {
    "collapsed": true
   },
   "outputs": [],
   "source": [
    "#Added to fix \"GraphViz's executables not found\" issue\n",
    "import os\n",
    "os.environ[\"PATH\"] += os.pathsep + 'C:/Program Files (x86)/Graphviz2.38/bin/'"
   ]
  },
  {
   "cell_type": "code",
   "execution_count": 245,
   "metadata": {},
   "outputs": [
    {
     "ename": "NameError",
     "evalue": "name 'clf' is not defined",
     "output_type": "error",
     "traceback": [
      "\u001b[1;31m---------------------------------------------------------------------------\u001b[0m",
      "\u001b[1;31mNameError\u001b[0m                                 Traceback (most recent call last)",
      "\u001b[1;32m<ipython-input-245-a076564ccbfd>\u001b[0m in \u001b[0;36m<module>\u001b[1;34m()\u001b[0m\n\u001b[0;32m      6\u001b[0m \u001b[1;33m\u001b[0m\u001b[0m\n\u001b[0;32m      7\u001b[0m tree.export_graphviz(\n\u001b[1;32m----> 8\u001b[1;33m                     \u001b[0mclf\u001b[0m\u001b[1;33m,\u001b[0m \u001b[1;31m#the fitted tree itself\u001b[0m\u001b[1;33m\u001b[0m\u001b[0m\n\u001b[0m\u001b[0;32m      9\u001b[0m                     \u001b[0mout_file\u001b[0m\u001b[1;33m=\u001b[0m\u001b[0mdot_data\u001b[0m\u001b[1;33m,\u001b[0m  \u001b[1;31m#Save the output tree in this variable in dotted format\u001b[0m\u001b[1;33m\u001b[0m\u001b[0m\n\u001b[0;32m     10\u001b[0m                     \u001b[0mfeature_names\u001b[0m\u001b[1;33m=\u001b[0m\u001b[0mfeatures\u001b[0m \u001b[1;31m#Input features to the tree for them to be displayed in tree\u001b[0m\u001b[1;33m\u001b[0m\u001b[0m\n",
      "\u001b[1;31mNameError\u001b[0m: name 'clf' is not defined"
     ]
    }
   ],
   "source": [
    "from IPython.display import Image  \n",
    "from sklearn.externals.six import StringIO  \n",
    "import pydot \n",
    "\n",
    "dot_data = StringIO()  #To save tree in it in next step\n",
    "\n",
    "tree.export_graphviz(\n",
    "                    clf, #the fitted tree itself\n",
    "                    out_file=dot_data,  #Save the output tree in this variable in dotted format\n",
    "                    feature_names=features #Input features to the tree for them to be displayed in tree\n",
    "                    )  \n",
    "graph = pydot.graph_from_dot_data(dot_data.getvalue())  #convert dotted format to visual graph\n",
    "Image(graph.create_png())  #Convert 'graph' image above to png"
   ]
  },
  {
   "cell_type": "markdown",
   "metadata": {},
   "source": [
    "# ROUGH WORK!"
   ]
  },
  {
   "cell_type": "markdown",
   "metadata": {},
   "source": [
    "**Following was just testing to use OLS for finding missing values**"
   ]
  },
  {
   "cell_type": "code",
   "execution_count": 289,
   "metadata": {},
   "outputs": [
    {
     "name": "stderr",
     "output_type": "stream",
     "text": [
      "C:\\Users\\MK255019\\AppData\\Local\\Enthought\\Canopy\\User\\lib\\site-packages\\sklearn\\preprocessing\\data.py:586: DeprecationWarning: Passing 1d arrays as data is deprecated in 0.17 and will raise ValueError in 0.19. Reshape your data either using X.reshape(-1, 1) if your data has a single feature or X.reshape(1, -1) if it contains a single sample.\n",
      "  warnings.warn(DEPRECATION_MSG_1D, DeprecationWarning)\n",
      "C:\\Users\\MK255019\\AppData\\Local\\Enthought\\Canopy\\User\\lib\\site-packages\\sklearn\\preprocessing\\data.py:649: DeprecationWarning: Passing 1d arrays as data is deprecated in 0.17 and will raise ValueError in 0.19. Reshape your data either using X.reshape(-1, 1) if your data has a single feature or X.reshape(1, -1) if it contains a single sample.\n",
      "  warnings.warn(DEPRECATION_MSG_1D, DeprecationWarning)\n",
      "C:\\Users\\MK255019\\AppData\\Local\\Enthought\\Canopy\\User\\lib\\site-packages\\ipykernel\\__main__.py:29: SettingWithCopyWarning: \n",
      "A value is trying to be set on a copy of a slice from a DataFrame.\n",
      "Try using .loc[row_indexer,col_indexer] = value instead\n",
      "\n",
      "See the caveats in the documentation: http://pandas.pydata.org/pandas-docs/stable/indexing.html#indexing-view-versus-copy\n"
     ]
    },
    {
     "name": "stdout",
     "output_type": "stream",
     "text": [
      "0.0066135016075 ['Survived']\n",
      "0.127541486462 ['Pclass']\n",
      "0.183104766203 ['Survived', 'Pclass']\n",
      "0.202298667301 ['Pclass', 'SibSp']\n",
      "0.25493576747 ['Survived', 'Pclass', 'SibSp']\n",
      "0.257893052876 ['Survived', 'Pclass', 'SibSp', 'Parch']\n",
      "0.25789313005 ['Survived', 'Pclass', 'SibSp', 'Parch', 'Sex']\n",
      "and the final is\n",
      "0.25789313005['Survived', 'Pclass', 'SibSp', 'Parch', 'Sex']\n"
     ]
    },
    {
     "name": "stderr",
     "output_type": "stream",
     "text": [
      "C:\\Users\\MK255019\\AppData\\Local\\Enthought\\Canopy\\User\\lib\\site-packages\\ipykernel\\__main__.py:41: SettingWithCopyWarning: \n",
      "A value is trying to be set on a copy of a slice from a DataFrame.\n",
      "Try using .loc[row_indexer,col_indexer] = value instead\n",
      "\n",
      "See the caveats in the documentation: http://pandas.pydata.org/pandas-docs/stable/indexing.html#indexing-view-versus-copy\n"
     ]
    }
   ],
   "source": [
    "#Age_NMiss = df[df.Age.notnull()] #This is data where we have Age\n",
    "#Age_Miss = df[df.Age.isnull()] #This is data where we DO NOT have Age\n",
    "\n",
    "#Age_NMiss_Train = Age_NMiss[80:]\n",
    "#Age_NMiss_Test = Age_NMiss[:80]\n",
    "\n",
    "import statsmodels.api as sm\n",
    "from sklearn.preprocessing import StandardScaler\n",
    "import itertools\n",
    "\n",
    "scale = StandardScaler()\n",
    "\n",
    "#Columns list to consider for X\n",
    "potentialFeatures=np.array(['Survived','Pclass','SibSp','Parch','Sex']).tolist()\n",
    "\n",
    "#Making Y\n",
    "#y=Age_NMiss_Train['Age']\n",
    "y=scale.fit_transform(Age_NMiss_Train['Age'].as_matrix())\n",
    "\n",
    "\n",
    "#Setting temporary values\n",
    "max_X = 0.0\n",
    "\n",
    "for iteration in range(1,len(potentialFeatures)+1):\n",
    "    for stuff in itertools.combinations(potentialFeatures, iteration):\n",
    "        Age_features=np.array(stuff).tolist()\n",
    "        #Making X\n",
    "        X = Age_NMiss_Train[Age_features]\n",
    "        X[Age_features] = scale.fit_transform(X[Age_features].as_matrix())\n",
    "        #Making OLS Model\n",
    "        est = sm.OLS(y, X).fit()\n",
    "        #Get max\n",
    "        if max_X < est.rsquared:\n",
    "            max_X=est.rsquared\n",
    "            best_Features=stuff\n",
    "            print str(max_X) + \" \" + str(Age_features)\n",
    "\n",
    "print \"and the final is\"\n",
    "bestFeatureFinal=np.array(best_Features).tolist()\n",
    "X = Age_NMiss_Train[bestFeatureFinal]\n",
    "X[bestFeatureFinal] = scale.fit_transform(X[bestFeatureFinal].as_matrix())\n",
    "est2 = sm.OLS(y, X).fit()\n",
    "print str(est2.rsquared) + str(bestFeatureFinal)\n",
    "\n",
    "#print est2.predict(scale.fit_transform(Age_NMiss_Test[bestFeatureFinal].as_matrix()),Age_NMiss_Test['Age'])\n",
    "#y=scale.inverse_transform(est2.predict(Age_NMiss_Test[bestFeatureFinal]))\n",
    "#print y\n"
   ]
  },
  {
   "cell_type": "code",
   "execution_count": null,
   "metadata": {
    "collapsed": true
   },
   "outputs": [],
   "source": []
  }
 ],
 "metadata": {
  "kernelspec": {
   "display_name": "Python [conda root]",
   "language": "python",
   "name": "conda-root-py"
  },
  "language_info": {
   "codemirror_mode": {
    "name": "ipython",
    "version": 3
   },
   "file_extension": ".py",
   "mimetype": "text/x-python",
   "name": "python",
   "nbconvert_exporter": "python",
   "pygments_lexer": "ipython3",
   "version": "3.5.4"
  }
 },
 "nbformat": 4,
 "nbformat_minor": 1
}
